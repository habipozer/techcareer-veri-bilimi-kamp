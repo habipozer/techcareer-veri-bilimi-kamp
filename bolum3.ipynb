{
 "cells": [
  {
   "cell_type": "code",
   "execution_count": null,
   "id": "d2aade1b",
   "metadata": {},
   "outputs": [],
   "source": [
    "# 9\n",
    "urun1 = float(input(\"1. ürün fiyatı: \"))\n",
    "urun2 = float(input(\"2. ürün fiyatı: \"))\n",
    "urun3 = float(input(\"3. ürün fiyatı: \"))\n",
    "\n",
    "toplam = urun1 + urun2 + urun3\n",
    "\n",
    "if toplam > 200:\n",
    "    son_fiyat = toplam * 0.9\n",
    "    print(f\"Toplam: {toplam} TL\")\n",
    "    print(f\"İndirim uygulandı (%10)\")\n",
    "    print(f\"Son fiyat: {son_fiyat} TL\")\n",
    "else:\n",
    "    print(f\"Toplam: {toplam} TL\")\n",
    "    print(f\"Son fiyat: {toplam} TL\")"
   ]
  },
  {
   "cell_type": "code",
   "execution_count": null,
   "id": "d15f015b",
   "metadata": {},
   "outputs": [],
   "source": [
    "# 10\n",
    "dogum_yili = int(input(\"Doğum yılınızı giriniz: \"))\n",
    "guncel_yil = 2025\n",
    "\n",
    "yas = guncel_yil - dogum_yili\n",
    "\n",
    "if yas <= 12:\n",
    "    print(\"Çocuksunuz\")\n",
    "elif yas <= 17:\n",
    "    print(\"Ergensiniz\")\n",
    "else:\n",
    "    print(\"Yetişkinsiniz\")"
   ]
  }
 ],
 "metadata": {
  "language_info": {
   "name": "python"
  }
 },
 "nbformat": 4,
 "nbformat_minor": 5
}
