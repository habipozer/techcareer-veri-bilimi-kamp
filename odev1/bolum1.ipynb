{
 "cells": [
  {
   "cell_type": "code",
   "execution_count": null,
   "id": "67bef958",
   "metadata": {},
   "outputs": [],
   "source": [
    "# 1\n",
    "ad = input(\"Adınızı giriniz: \")\n",
    "yas = int(input(\"Yaşınızı giriniz: \"))\n",
    "boy = float(input(\"Boyunuzu (metre cinsinden) giriniz: \"))\n",
    "\n",
    "print(f\"\\n--- Kullanıcı Bilgileri ---\")\n",
    "print(f\"Ad: {ad}\")\n",
    "print(f\"Yaş: {yas} yaşında\")\n",
    "print(f\"Boy: {boy} metre\")"
   ]
  },
  {
   "cell_type": "code",
   "execution_count": null,
   "id": "e93f99a2",
   "metadata": {},
   "outputs": [],
   "source": [
    "# 2\n",
    "matematik = int(input(\"Matematik notunuzu giriniz: \"))\n",
    "fizik = int(input(\"Fizik notunuzu giriniz: \"))\n",
    "kimya = int(input(\"Kimya notunuzu giriniz: \"))\n",
    "\n",
    "ortalama = float(matematik + fizik + kimya) / 3\n",
    "\n",
    "print(f\"\\n--- Öğrenci Not Bilgileri ---\")\n",
    "print(f\"Matematik: {matematik}\")\n",
    "print(f\"Fizik: {fizik}\")\n",
    "print(f\"Kimya: {kimya}\")\n",
    "print(f\"Ortalama: {ortalama:.2f}\")"
   ]
  },
  {
   "cell_type": "code",
   "execution_count": null,
   "id": "59a5f26d",
   "metadata": {},
   "outputs": [],
   "source": [
    "# 3\n",
    "metin = input(\"Bir metin giriniz: \")\n",
    "\n",
    "ilk_karakter = metin[0] if len(metin) > 0 else \"Boş string\"\n",
    "son_karakter = metin[-1] if len(metin) > 0 else \"Boş string\"\n",
    "uzunluk = len(metin)\n",
    "ters_metin = metin[::-1]\n",
    "\n",
    "print(f\"\\n--- String İşlemleri ---\")\n",
    "print(f\"Girilen metin: '{metin}'\")\n",
    "print(f\"İlk karakter: '{ilk_karakter}'\")\n",
    "print(f\"Son karakter: '{son_karakter}'\")\n",
    "print(f\"Uzunluk: {uzunluk} karakter\")\n",
    "print(f\"Ters çevrilmiş hali: '{ters_metin}'\")"
   ]
  }
 ],
 "metadata": {
  "kernelspec": {
   "display_name": "Python 3",
   "language": "python",
   "name": "python3"
  },
  "language_info": {
   "codemirror_mode": {
    "name": "ipython",
    "version": 3
   },
   "file_extension": ".py",
   "mimetype": "text/x-python",
   "name": "python",
   "nbconvert_exporter": "python",
   "pygments_lexer": "ipython3",
   "version": "3.13.1"
  }
 },
 "nbformat": 4,
 "nbformat_minor": 5
}
