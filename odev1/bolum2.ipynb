{
 "cells": [
  {
   "cell_type": "code",
   "execution_count": null,
   "id": "17ea2136",
   "metadata": {},
   "outputs": [],
   "source": [
    "# 4\n",
    "sayi1 = float(input(\"Birinci sayıyı giriniz: \"))\n",
    "sayi2 = float(input(\"İkinci sayıyı giriniz: \"))\n",
    "\n",
    "toplama = sayi1 + sayi2\n",
    "cikarma = sayi1 - sayi2\n",
    "carpma = sayi1 * sayi2\n",
    "\n",
    "if sayi2 != 0:\n",
    "    bolme = sayi1 / sayi2\n",
    "    mod = sayi1 % sayi2\n",
    "else:\n",
    "    bolme = \"Tanımsız (sıfıra bölme hatası)\"\n",
    "    mod = \"Tanımsız (sıfıra bölme hatası)\"\n",
    "\n",
    "print(f\"\\n--- Matematiksel İşlemler ---\")\n",
    "print(f\"Birinci sayı: {sayi1}\")\n",
    "print(f\"İkinci sayı: {sayi2}\")\n",
    "print(f\"\\nToplama: {sayi1} + {sayi2} = {toplama}\")\n",
    "print(f\"Çıkarma: {sayi1} - {sayi2} = {cikarma}\")\n",
    "print(f\"Çarpma: {sayi1} × {sayi2} = {carpma}\")\n",
    "print(f\"Bölme: {sayi1} ÷ {sayi2} = {bolme}\")\n",
    "print(f\"Mod: {sayi1} % {sayi2} = {mod}\")"
   ]
  },
  {
   "cell_type": "code",
   "execution_count": null,
   "id": "3aa3ad5e",
   "metadata": {},
   "outputs": [],
   "source": [
    "# 5\n",
    "print(\"Öğrenci notlarını giriniz:\")\n",
    "matematik = float(input(\"Matematik notu: \"))\n",
    "fizik = float(input(\"Fizik notu: \"))\n",
    "kimya = float(input(\"Kimya notu: \"))\n",
    "\n",
    "ortalama = (matematik + fizik + kimya) / 3\n",
    "\n",
    "print(f\"\\n--- Not Bilgileri ---\")\n",
    "print(f\"Matematik: {matematik}\")\n",
    "print(f\"Fizik: {fizik}\")\n",
    "print(f\"Kimya: {kimya}\")\n",
    "print(f\"Ortalama: {ortalama:.2f}\")\n",
    "\n",
    "print(f\"\\n--- Sonuç ---\")\n",
    "if ortalama > 50:\n",
    "    print(\"Geçti\")\n",
    "else:\n",
    "    print(\"Kaldı\")"
   ]
  },
  {
   "cell_type": "code",
   "execution_count": null,
   "id": "1c03448e",
   "metadata": {},
   "outputs": [],
   "source": [
    "# 6\n",
    "yas = int(input(\"Yaşınızı giriniz: \"))\n",
    "\n",
    "print(f\"\\nYaşınız: {yas}\")\n",
    "\n",
    "if yas >= 18:\n",
    "    print(\"Ehliyet alabilirsiniz\")\n",
    "else:\n",
    "    print(\"Ehliyet alamazsınız\")\n",
    "    kalan_yil = 18 - yas\n",
    "    print(f\"Ehliyet alabilmek için {kalan_yil} yıl beklemeniz gerekiyor.\")"
   ]
  },
  {
   "cell_type": "code",
   "execution_count": null,
   "id": "861482b7",
   "metadata": {},
   "outputs": [],
   "source": [
    "# 7\n",
    "fiyat = float(input(\"Ürün fiyatını giriniz: \"))\n",
    "indirim_orani = float(input(\"İndirim oranını giriniz (%): \"))\n",
    "\n",
    "indirim_tutari = fiyat * (indirim_orani / 100)\n",
    "indirimli_fiyat = fiyat - indirim_tutari\n",
    "\n",
    "print(f\"Orijinal fiyat: {fiyat} TL\")\n",
    "print(f\"İndirim oranı: %{indirim_orani}\")\n",
    "print(f\"İndirimli fiyat: {indirimli_fiyat} TL\")"
   ]
  },
  {
   "cell_type": "code",
   "execution_count": 1,
   "id": "6aad838a",
   "metadata": {},
   "outputs": [
    {
     "name": "stdout",
     "output_type": "stream",
     "text": [
      "a = True, b = False\n",
      "a and b = False\n",
      "a or b = True\n",
      "not a = False\n",
      "not b = True\n",
      "not a and b = False\n",
      "a or not b = True\n"
     ]
    }
   ],
   "source": [
    "# 8\n",
    "a = True\n",
    "b = False\n",
    "\n",
    "print(f\"a = {a}, b = {b}\")\n",
    "print(f\"a and b = {a and b}\")\n",
    "print(f\"a or b = {a or b}\")\n",
    "print(f\"not a = {not a}\")\n",
    "print(f\"not b = {not b}\")\n",
    "print(f\"not a and b = {not a and b}\")\n",
    "print(f\"a or not b = {a or not b}\")"
   ]
  }
 ],
 "metadata": {
  "kernelspec": {
   "display_name": "Python 3",
   "language": "python",
   "name": "python3"
  },
  "language_info": {
   "codemirror_mode": {
    "name": "ipython",
    "version": 3
   },
   "file_extension": ".py",
   "mimetype": "text/x-python",
   "name": "python",
   "nbconvert_exporter": "python",
   "pygments_lexer": "ipython3",
   "version": "3.13.1"
  }
 },
 "nbformat": 4,
 "nbformat_minor": 5
}
