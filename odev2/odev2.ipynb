{
 "cells": [
  {
   "cell_type": "code",
   "execution_count": null,
   "id": "71bbac37",
   "metadata": {},
   "outputs": [],
   "source": [
    "# Soru 1 - Sayı Analizi\n",
    "\n",
    "sayi = float(input(\"Bir sayı girin: \"))\n",
    "\n",
    "if sayi > 0:\n",
    "    durum = \"Pozitif\"\n",
    "elif sayi < 0:\n",
    "    durum = \"Negatif\"\n",
    "else:\n",
    "    durum = \"Sıfır\"\n",
    "\n",
    "if sayi != 0:\n",
    "    if int(sayi) % 2 == 0:\n",
    "        tek_cift = \"Çift\"\n",
    "    else:\n",
    "        tek_cift = \"Tek\"\n",
    "    \n",
    "    print(f\"{durum} {tek_cift}\")\n",
    "else:\n",
    "    print(\"Sıfır\")"
   ]
  },
  {
   "cell_type": "code",
   "execution_count": null,
   "id": "c4514945",
   "metadata": {},
   "outputs": [],
   "source": [
    "# Soru 2 - Harf Frekansı (String)\n",
    "\n",
    "kelime = input(\"Bir kelime girin: \").lower()\n",
    "\n",
    "harf_sayisi = {}\n",
    "\n",
    "for harf in kelime:\n",
    "    if harf in harf_sayisi:\n",
    "        harf_sayisi[harf] += 1\n",
    "    else:\n",
    "        harf_sayisi[harf] = 1\n",
    "\n",
    "print(f\"Harf frekansları: {harf_sayisi}\")"
   ]
  },
  {
   "cell_type": "code",
   "execution_count": null,
   "id": "96e4bad5",
   "metadata": {},
   "outputs": [],
   "source": [
    "# Soru 3 - Şifre Kontrolü (String Metotları)\n",
    "\n",
    "sifre = input(\"Şifrenizi girin: \")\n",
    "\n",
    "uzunluk_ok = len(sifre) >= 8\n",
    "buyuk_harf_ok = any(harf.isupper() for harf in sifre)\n",
    "rakam_ok = any(harf.isdigit() for harf in sifre)\n",
    "\n",
    "if uzunluk_ok and buyuk_harf_ok and rakam_ok:\n",
    "    print(\"Şifre güçlü! Tüm koşulları sağlıyor.\")\n",
    "else:\n",
    "    print(\"Şifre yetersiz. Eksik koşullar:\")\n",
    "    if not uzunluk_ok:\n",
    "        print(\"- En az 8 karakter olmalı\")\n",
    "    if not buyuk_harf_ok:\n",
    "        print(\"- En az 1 büyük harf içermeli\")\n",
    "    if not rakam_ok:\n",
    "        print(\"- En az 1 rakam içermeli\")"
   ]
  },
  {
   "cell_type": "code",
   "execution_count": null,
   "id": "717833ef",
   "metadata": {},
   "outputs": [],
   "source": [
    "# Soru 4 - Liste İşlemleri\n",
    "\n",
    "sayilar = [12, 4, 9, 25, 30, 7, 18]\n",
    "\n",
    "ortalama = sum(sayilar) / len(sayilar)\n",
    "\n",
    "ortalama_ustundekiler = []\n",
    "for sayi in sayilar:\n",
    "    if sayi > ortalama:\n",
    "        ortalama_ustundekiler.append(sayi)\n",
    "\n",
    "print(f\"Liste: {sayilar}\")\n",
    "print(f\"Ortalama: {ortalama:.2f}\")\n",
    "print(f\"Ortalamadan büyük sayılar: {ortalama_ustundekiler}\")"
   ]
  },
  {
   "cell_type": "code",
   "execution_count": null,
   "id": "84c2da38",
   "metadata": {},
   "outputs": [],
   "source": [
    "# Soru 5 - Nested Loop (Desen)\n",
    "\n",
    "satir_sayisi = 5\n",
    "\n",
    "for i in range(1, satir_sayisi + 1):\n",
    "    for j in range(i):\n",
    "        print(\"*\", end=\"\")\n",
    "    print()"
   ]
  },
  {
   "cell_type": "code",
   "execution_count": null,
   "id": "d0521428",
   "metadata": {},
   "outputs": [],
   "source": [
    "# Soru 6 - While Döngüsü\n",
    "\n",
    "toplam = 0\n",
    "adet = 0\n",
    "\n",
    "while True:\n",
    "    sayi = float(input(\"Bir sayı girin (0 ile çıkış): \"))\n",
    "    \n",
    "    if sayi == 0:\n",
    "        break\n",
    "    \n",
    "    toplam += sayi\n",
    "    adet += 1\n",
    "\n",
    "if adet > 0:\n",
    "    ortalama = toplam / adet\n",
    "    print(f\"Toplam: {toplam}\")\n",
    "    print(f\"Adet: {adet}\")\n",
    "    print(f\"Ortalama: {ortalama:.2f}\")\n",
    "else:\n",
    "    print(\"Hiç sayı girilmedi.\")"
   ]
  },
  {
   "cell_type": "code",
   "execution_count": null,
   "id": "b8ac92f3",
   "metadata": {},
   "outputs": [],
   "source": [
    "# Soru 7 - Palindrom Kontrolü\n",
    "\n",
    "kelime = input(\"Bir kelime girin: \").lower()\n",
    "\n",
    "if kelime == kelime[::-1]:\n",
    "    print(f\"'{kelime}' palindromdur.\")\n",
    "else:\n",
    "    print(f\"'{kelime}' palindrom değildir.\")"
   ]
  },
  {
   "cell_type": "code",
   "execution_count": null,
   "id": "8b39660a",
   "metadata": {},
   "outputs": [],
   "source": [
    "# Soru 8 - List Comprehension\n",
    "\n",
    "# 1'den 100'e kadar hem 3'e hem 5'e bölünebilen sayıların kareleri\n",
    "kareler = [sayi**2 for sayi in range(1, 101) if sayi % 3 == 0 and sayi % 5 == 0]\n",
    "\n",
    "print(f\"Hem 3'e hem 5'e bölünebilen sayıların kareleri: {kareler}\")\n",
    "print(f\"Toplam {len(kareler)} adet sayı bulundu.\")"
   ]
  },
  {
   "cell_type": "code",
   "execution_count": null,
   "id": "37e218a9",
   "metadata": {},
   "outputs": [],
   "source": [
    "# Soru 9 - String İşlemleri\n",
    "\n",
    "cumle = input(\"Bir cümle girin: \")\n",
    "\n",
    "kelimeler = cumle.split()\n",
    "\n",
    "buyuk_kelimeler = []\n",
    "for kelime in kelimeler:\n",
    "    buyuk_kelimeler.append(kelime.capitalize())\n",
    "\n",
    "yeni_cumle = \" \".join(buyuk_kelimeler)\n",
    "\n",
    "print(f\"Orijinal: {cumle}\")\n",
    "print(f\"Düzenlenmiş: {yeni_cumle}\")"
   ]
  },
  {
   "cell_type": "code",
   "execution_count": null,
   "id": "3616c102",
   "metadata": {},
   "outputs": [],
   "source": [
    "# Mini Proje - Film Yorumu Analizi\n",
    "\n",
    "yorumlar = []\n",
    "\n",
    "print(\"Film yorumlarını girin (5-6 adet):\")\n",
    "for i in range(5):\n",
    "    yorum = input(f\"{i+1}. yorumu girin: \")\n",
    "    yorumlar.append(yorum)\n",
    "\n",
    "uzunluklar = [len(yorum) for yorum in yorumlar]\n",
    "\n",
    "iyi_sayisi = 0\n",
    "for yorum in yorumlar:\n",
    "    if \"iyi\" in yorum.lower():\n",
    "        iyi_sayisi += 1\n",
    "\n",
    "en_uzun = max(yorumlar, key=len)\n",
    "en_kisa = min(yorumlar, key=len)\n",
    "\n",
    "ortalama_uzunluk = sum(uzunluklar) / len(uzunluklar)\n",
    "\n",
    "print(\"\\n--- Analiz Sonuçları ---\")\n",
    "print(f\"Toplam yorum sayısı: {len(yorumlar)}\")\n",
    "print(f\"'iyi' geçen yorum sayısı: {iyi_sayisi}\")\n",
    "print(f\"En uzun yorum: {en_uzun}\")\n",
    "print(f\"En kısa yorum: {en_kisa}\")\n",
    "print(f\"Ortalama uzunluk: {ortalama_uzunluk:.1f} karakter\")"
   ]
  }
 ],
 "metadata": {
  "kernelspec": {
   "display_name": "Python 3",
   "language": "python",
   "name": "python3"
  },
  "language_info": {
   "codemirror_mode": {
    "name": "ipython",
    "version": 3
   },
   "file_extension": ".py",
   "mimetype": "text/x-python",
   "name": "python",
   "nbconvert_exporter": "python",
   "pygments_lexer": "ipython3",
   "version": "3.13.1"
  }
 },
 "nbformat": 4,
 "nbformat_minor": 5
}
